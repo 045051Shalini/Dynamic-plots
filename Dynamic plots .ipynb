{
 "cells": [
  {
   "cell_type": "raw",
   "id": "36bee3c4-c0c8-44c1-9c5b-78c753e8e373",
   "metadata": {},
   "source": [
    "Submitted by - SHALINI CHAUHAN\n",
    "ROLL- NO. - 045051"
   ]
  },
  {
   "cell_type": "code",
   "execution_count": 28,
   "id": "6f5d7ab9-17aa-4f42-b5da-0665abd726d5",
   "metadata": {},
   "outputs": [],
   "source": [
    "import pandas as pd\n",
    "import numpy as np\n",
    "import plotly.express as px"
   ]
  },
  {
   "cell_type": "code",
   "execution_count": 29,
   "id": "7a87ef79-93b3-46ca-ab7f-c8ba72274433",
   "metadata": {},
   "outputs": [
    {
     "name": "stdout",
     "output_type": "stream",
     "text": [
      "Requirement already satisfied: plotly in c:\\users\\shalini\\anaconda3\\lib\\site-packages (5.18.0)\n",
      "Requirement already satisfied: tenacity>=6.2.0 in c:\\users\\shalini\\anaconda3\\lib\\site-packages (from plotly) (8.2.2)\n",
      "Requirement already satisfied: packaging in c:\\users\\shalini\\anaconda3\\lib\\site-packages (from plotly) (23.1)\n"
     ]
    }
   ],
   "source": [
    "!pip install plotly"
   ]
  },
  {
   "cell_type": "code",
   "execution_count": 30,
   "id": "1c55cfcc-66de-4ed0-bd0c-8849d3db4a2d",
   "metadata": {},
   "outputs": [
    {
     "data": {
      "text/html": [
       "<div>\n",
       "<style scoped>\n",
       "    .dataframe tbody tr th:only-of-type {\n",
       "        vertical-align: middle;\n",
       "    }\n",
       "\n",
       "    .dataframe tbody tr th {\n",
       "        vertical-align: top;\n",
       "    }\n",
       "\n",
       "    .dataframe thead th {\n",
       "        text-align: right;\n",
       "    }\n",
       "</style>\n",
       "<table border=\"1\" class=\"dataframe\">\n",
       "  <thead>\n",
       "    <tr style=\"text-align: right;\">\n",
       "      <th></th>\n",
       "      <th>invoice_no</th>\n",
       "      <th>customer_id</th>\n",
       "      <th>gender</th>\n",
       "      <th>age</th>\n",
       "      <th>category</th>\n",
       "      <th>quantity</th>\n",
       "      <th>price</th>\n",
       "      <th>payment_method</th>\n",
       "      <th>invoice_date</th>\n",
       "      <th>shopping_mall</th>\n",
       "      <th>Unnamed: 10</th>\n",
       "    </tr>\n",
       "  </thead>\n",
       "  <tbody>\n",
       "    <tr>\n",
       "      <th>0</th>\n",
       "      <td>I138884</td>\n",
       "      <td>C241288</td>\n",
       "      <td>Female</td>\n",
       "      <td>28</td>\n",
       "      <td>Clothing</td>\n",
       "      <td>5</td>\n",
       "      <td>1500.40</td>\n",
       "      <td>Credit Card</td>\n",
       "      <td>5/8/2022</td>\n",
       "      <td>Kanyon</td>\n",
       "      <td>NaN</td>\n",
       "    </tr>\n",
       "    <tr>\n",
       "      <th>1</th>\n",
       "      <td>I317333</td>\n",
       "      <td>C111565</td>\n",
       "      <td>Male</td>\n",
       "      <td>21</td>\n",
       "      <td>Shoes</td>\n",
       "      <td>3</td>\n",
       "      <td>1800.51</td>\n",
       "      <td>Debit Card</td>\n",
       "      <td>12/12/2021</td>\n",
       "      <td>Forum Istanbul</td>\n",
       "      <td>NaN</td>\n",
       "    </tr>\n",
       "    <tr>\n",
       "      <th>2</th>\n",
       "      <td>I127801</td>\n",
       "      <td>C266599</td>\n",
       "      <td>Male</td>\n",
       "      <td>20</td>\n",
       "      <td>Clothing</td>\n",
       "      <td>1</td>\n",
       "      <td>300.08</td>\n",
       "      <td>Cash</td>\n",
       "      <td>9/11/2021</td>\n",
       "      <td>Metrocity</td>\n",
       "      <td>NaN</td>\n",
       "    </tr>\n",
       "    <tr>\n",
       "      <th>3</th>\n",
       "      <td>I173702</td>\n",
       "      <td>C988172</td>\n",
       "      <td>Female</td>\n",
       "      <td>66</td>\n",
       "      <td>Shoes</td>\n",
       "      <td>5</td>\n",
       "      <td>3000.85</td>\n",
       "      <td>Credit Card</td>\n",
       "      <td>16/05/2021</td>\n",
       "      <td>Metropol AVM</td>\n",
       "      <td>NaN</td>\n",
       "    </tr>\n",
       "    <tr>\n",
       "      <th>4</th>\n",
       "      <td>I337046</td>\n",
       "      <td>C189076</td>\n",
       "      <td>Female</td>\n",
       "      <td>53</td>\n",
       "      <td>Books</td>\n",
       "      <td>4</td>\n",
       "      <td>60.60</td>\n",
       "      <td>Cash</td>\n",
       "      <td>24/10/2021</td>\n",
       "      <td>Kanyon</td>\n",
       "      <td>NaN</td>\n",
       "    </tr>\n",
       "  </tbody>\n",
       "</table>\n",
       "</div>"
      ],
      "text/plain": [
       "  invoice_no customer_id  gender  age  category  quantity    price  \\\n",
       "0    I138884     C241288  Female   28  Clothing         5  1500.40   \n",
       "1    I317333     C111565    Male   21     Shoes         3  1800.51   \n",
       "2    I127801     C266599    Male   20  Clothing         1   300.08   \n",
       "3    I173702     C988172  Female   66     Shoes         5  3000.85   \n",
       "4    I337046     C189076  Female   53     Books         4    60.60   \n",
       "\n",
       "  payment_method invoice_date   shopping_mall  Unnamed: 10  \n",
       "0    Credit Card     5/8/2022          Kanyon          NaN  \n",
       "1     Debit Card   12/12/2021  Forum Istanbul          NaN  \n",
       "2           Cash    9/11/2021       Metrocity          NaN  \n",
       "3    Credit Card   16/05/2021    Metropol AVM          NaN  \n",
       "4           Cash   24/10/2021          Kanyon          NaN  "
      ]
     },
     "execution_count": 30,
     "metadata": {},
     "output_type": "execute_result"
    }
   ],
   "source": [
    "# GitHub repository URL\n",
    "github_repo_url = 'https://github.com/045051Shalini/Dynamic-plots'\n",
    "\n",
    "# Relative path within the repository to the CSV file\n",
    "csv_path_within_repo = 'customer_shopping_data.csv'\n",
    "\n",
    "# Combine the URL components\n",
    "raw_csv_url = f'{github_repo_url}/raw/main/{csv_path_within_repo}'\n",
    "\n",
    "# Read the CSV file into a DataFrame\n",
    "df = pd.read_csv(raw_csv_url)\n",
    "\n",
    "# Display the DataFrame\n",
    "df.head()"
   ]
  },
  {
   "cell_type": "raw",
   "id": "ecdc7f6d-9521-4c25-996a-5b4dad786e2e",
   "metadata": {},
   "source": [
    "Attribute Information:\n",
    "\n",
    "invoice_no: Invoice number. Nominal. A combination of the letter 'I' and a 6-digit integer uniquely assigned to each operation.\n",
    "customer_id: Customer number. Nominal. A combination of the letter 'C' and a 6-digit integer uniquely assigned to each operation.\n",
    "gender: String variable of the customer's gender.\n",
    "age: Positive Integer variable of the customers age.\n",
    "category: String variable of the category of the purchased product.\n",
    "quantity: The quantities of each product (item) per transaction. Numeric.\n",
    "price: Price at which all quantitie were sold in Turkish Lera (TL) Numeric. \n",
    "payment_method: String variable of the payment method (cash, credit card or debit card) used for the transaction.\n",
    "invoice_date: Invoice date. The day when a transaction was generated.\n",
    "shopping_mall: String variable of the name of the shopping mall where the transaction was made."
   ]
  },
  {
   "cell_type": "code",
   "execution_count": 31,
   "id": "b581c1d8-3a4a-4511-99b8-637d9477dfaf",
   "metadata": {},
   "outputs": [
    {
     "name": "stdout",
     "output_type": "stream",
     "text": [
      "<class 'pandas.core.frame.DataFrame'>\n",
      "RangeIndex: 99457 entries, 0 to 99456\n",
      "Data columns (total 11 columns):\n",
      " #   Column          Non-Null Count  Dtype  \n",
      "---  ------          --------------  -----  \n",
      " 0   invoice_no      99457 non-null  object \n",
      " 1   customer_id     99457 non-null  object \n",
      " 2   gender          99457 non-null  object \n",
      " 3   age             99457 non-null  int64  \n",
      " 4   category        99457 non-null  object \n",
      " 5   quantity        99457 non-null  int64  \n",
      " 6   price           99457 non-null  float64\n",
      " 7   payment_method  99457 non-null  object \n",
      " 8   invoice_date    99457 non-null  object \n",
      " 9   shopping_mall   99457 non-null  object \n",
      " 10  Unnamed: 10     0 non-null      float64\n",
      "dtypes: float64(2), int64(2), object(7)\n",
      "memory usage: 8.3+ MB\n"
     ]
    }
   ],
   "source": [
    "df.info()"
   ]
  },
  {
   "cell_type": "code",
   "execution_count": 32,
   "id": "d856ca9e-7ec8-422e-ad0d-a9961957ed56",
   "metadata": {},
   "outputs": [],
   "source": [
    "import warnings\n",
    "warnings.filterwarnings(\"ignore\")"
   ]
  },
  {
   "cell_type": "code",
   "execution_count": 33,
   "id": "fba7b0b9-e220-413f-8ff3-250e43827082",
   "metadata": {},
   "outputs": [],
   "source": [
    "\n",
    "df = df.drop('Unnamed: 10', axis=1)"
   ]
  },
  {
   "cell_type": "code",
   "execution_count": 34,
   "id": "c02c109d-fe5d-4582-b0a9-86f2ad9d8a20",
   "metadata": {},
   "outputs": [
    {
     "name": "stdout",
     "output_type": "stream",
     "text": [
      "Requirement already satisfied: bar_chart_race in c:\\users\\shalini\\anaconda3\\lib\\site-packages (0.1.0)\n",
      "Requirement already satisfied: pandas>=0.24 in c:\\users\\shalini\\anaconda3\\lib\\site-packages (from bar_chart_race) (2.1.4)\n",
      "Requirement already satisfied: matplotlib>=3.1 in c:\\users\\shalini\\anaconda3\\lib\\site-packages (from bar_chart_race) (3.8.0)\n",
      "Requirement already satisfied: contourpy>=1.0.1 in c:\\users\\shalini\\anaconda3\\lib\\site-packages (from matplotlib>=3.1->bar_chart_race) (1.2.0)\n",
      "Requirement already satisfied: cycler>=0.10 in c:\\users\\shalini\\anaconda3\\lib\\site-packages (from matplotlib>=3.1->bar_chart_race) (0.11.0)\n",
      "Requirement already satisfied: fonttools>=4.22.0 in c:\\users\\shalini\\anaconda3\\lib\\site-packages (from matplotlib>=3.1->bar_chart_race) (4.25.0)\n",
      "Requirement already satisfied: kiwisolver>=1.0.1 in c:\\users\\shalini\\anaconda3\\lib\\site-packages (from matplotlib>=3.1->bar_chart_race) (1.4.4)\n",
      "Requirement already satisfied: numpy<2,>=1.21 in c:\\users\\shalini\\anaconda3\\lib\\site-packages (from matplotlib>=3.1->bar_chart_race) (1.26.2)\n",
      "Requirement already satisfied: packaging>=20.0 in c:\\users\\shalini\\anaconda3\\lib\\site-packages (from matplotlib>=3.1->bar_chart_race) (23.1)\n",
      "Requirement already satisfied: pillow>=6.2.0 in c:\\users\\shalini\\anaconda3\\lib\\site-packages (from matplotlib>=3.1->bar_chart_race) (10.0.1)\n",
      "Requirement already satisfied: pyparsing>=2.3.1 in c:\\users\\shalini\\anaconda3\\lib\\site-packages (from matplotlib>=3.1->bar_chart_race) (3.0.9)\n",
      "Requirement already satisfied: python-dateutil>=2.7 in c:\\users\\shalini\\anaconda3\\lib\\site-packages (from matplotlib>=3.1->bar_chart_race) (2.8.2)\n",
      "Requirement already satisfied: pytz>=2020.1 in c:\\users\\shalini\\anaconda3\\lib\\site-packages (from pandas>=0.24->bar_chart_race) (2023.3.post1)\n",
      "Requirement already satisfied: tzdata>=2022.1 in c:\\users\\shalini\\anaconda3\\lib\\site-packages (from pandas>=0.24->bar_chart_race) (2023.3)\n",
      "Requirement already satisfied: six>=1.5 in c:\\users\\shalini\\anaconda3\\lib\\site-packages (from python-dateutil>=2.7->matplotlib>=3.1->bar_chart_race) (1.16.0)\n"
     ]
    }
   ],
   "source": [
    "!pip install bar_chart_race\n",
    "import bar_chart_race as bcr\n",
    "import matplotlib.pyplot as plt\n",
    "import matplotlib"
   ]
  },
  {
   "cell_type": "code",
   "execution_count": 35,
   "id": "17b07213-0dbb-4faa-8a5f-4c44d60788fa",
   "metadata": {},
   "outputs": [],
   "source": [
    "matplotlib.rcParams['animation.embed_limit'] = 2**128"
   ]
  },
  {
   "cell_type": "code",
   "execution_count": 36,
   "id": "6d1db69d-de83-48fc-89c1-6c9d1a8be304",
   "metadata": {},
   "outputs": [],
   "source": [
    "import pandas as pd\n",
    "import bar_chart_race as bcr\n",
    "import matplotlib.pyplot as plt\n",
    "import matplotlib\n"
   ]
  },
  {
   "cell_type": "code",
   "execution_count": 24,
   "id": "d80a8775-8819-43d8-bfdf-0f78628b5068",
   "metadata": {},
   "outputs": [
    {
     "data": {
      "text/html": [
       "<div>\n",
       "<style scoped>\n",
       "    .dataframe tbody tr th:only-of-type {\n",
       "        vertical-align: middle;\n",
       "    }\n",
       "\n",
       "    .dataframe tbody tr th {\n",
       "        vertical-align: top;\n",
       "    }\n",
       "\n",
       "    .dataframe thead th {\n",
       "        text-align: right;\n",
       "    }\n",
       "</style>\n",
       "<table border=\"1\" class=\"dataframe\">\n",
       "  <thead>\n",
       "    <tr style=\"text-align: right;\">\n",
       "      <th>shopping_mall</th>\n",
       "      <th>Cevahir AVM</th>\n",
       "      <th>Emaar Square Mall</th>\n",
       "      <th>Forum Istanbul</th>\n",
       "      <th>Istinye Park</th>\n",
       "      <th>Kanyon</th>\n",
       "      <th>Mall of Istanbul</th>\n",
       "      <th>Metrocity</th>\n",
       "      <th>Metropol AVM</th>\n",
       "      <th>Viaport Outlet</th>\n",
       "      <th>Zorlu Center</th>\n",
       "    </tr>\n",
       "    <tr>\n",
       "      <th>invoice_date</th>\n",
       "      <th></th>\n",
       "      <th></th>\n",
       "      <th></th>\n",
       "      <th></th>\n",
       "      <th></th>\n",
       "      <th></th>\n",
       "      <th></th>\n",
       "      <th></th>\n",
       "      <th></th>\n",
       "      <th></th>\n",
       "    </tr>\n",
       "  </thead>\n",
       "  <tbody>\n",
       "    <tr>\n",
       "      <th>2021-01-01</th>\n",
       "      <td>1071.02</td>\n",
       "      <td>5516.83</td>\n",
       "      <td>2207.52</td>\n",
       "      <td>6379.84</td>\n",
       "      <td>13833.99</td>\n",
       "      <td>21000.22</td>\n",
       "      <td>12911.89</td>\n",
       "      <td>2995.89</td>\n",
       "      <td>77.03</td>\n",
       "      <td>5530.65</td>\n",
       "    </tr>\n",
       "    <tr>\n",
       "      <th>2021-01-02</th>\n",
       "      <td>3418.69</td>\n",
       "      <td>7512.22</td>\n",
       "      <td>6596.89</td>\n",
       "      <td>16974.01</td>\n",
       "      <td>29833.68</td>\n",
       "      <td>49021.29</td>\n",
       "      <td>22841.82</td>\n",
       "      <td>9090.64</td>\n",
       "      <td>1857.30</td>\n",
       "      <td>9636.24</td>\n",
       "    </tr>\n",
       "    <tr>\n",
       "      <th>2021-01-03</th>\n",
       "      <td>10210.18</td>\n",
       "      <td>9720.30</td>\n",
       "      <td>11905.62</td>\n",
       "      <td>19752.40</td>\n",
       "      <td>51082.22</td>\n",
       "      <td>73116.78</td>\n",
       "      <td>46618.66</td>\n",
       "      <td>16690.79</td>\n",
       "      <td>6140.92</td>\n",
       "      <td>14437.56</td>\n",
       "    </tr>\n",
       "    <tr>\n",
       "      <th>2021-01-04</th>\n",
       "      <td>14076.48</td>\n",
       "      <td>13123.67</td>\n",
       "      <td>16238.49</td>\n",
       "      <td>19957.91</td>\n",
       "      <td>70931.98</td>\n",
       "      <td>92839.02</td>\n",
       "      <td>51462.79</td>\n",
       "      <td>24219.43</td>\n",
       "      <td>10714.90</td>\n",
       "      <td>21535.84</td>\n",
       "    </tr>\n",
       "    <tr>\n",
       "      <th>2021-01-05</th>\n",
       "      <td>16742.43</td>\n",
       "      <td>15046.16</td>\n",
       "      <td>22803.04</td>\n",
       "      <td>32250.68</td>\n",
       "      <td>85922.70</td>\n",
       "      <td>121716.80</td>\n",
       "      <td>62109.02</td>\n",
       "      <td>29738.15</td>\n",
       "      <td>12922.98</td>\n",
       "      <td>21703.71</td>\n",
       "    </tr>\n",
       "  </tbody>\n",
       "</table>\n",
       "</div>"
      ],
      "text/plain": [
       "shopping_mall  Cevahir AVM  Emaar Square Mall  Forum Istanbul  Istinye Park  \\\n",
       "invoice_date                                                                  \n",
       "2021-01-01         1071.02            5516.83         2207.52       6379.84   \n",
       "2021-01-02         3418.69            7512.22         6596.89      16974.01   \n",
       "2021-01-03        10210.18            9720.30        11905.62      19752.40   \n",
       "2021-01-04        14076.48           13123.67        16238.49      19957.91   \n",
       "2021-01-05        16742.43           15046.16        22803.04      32250.68   \n",
       "\n",
       "shopping_mall    Kanyon  Mall of Istanbul  Metrocity  Metropol AVM  \\\n",
       "invoice_date                                                         \n",
       "2021-01-01     13833.99          21000.22   12911.89       2995.89   \n",
       "2021-01-02     29833.68          49021.29   22841.82       9090.64   \n",
       "2021-01-03     51082.22          73116.78   46618.66      16690.79   \n",
       "2021-01-04     70931.98          92839.02   51462.79      24219.43   \n",
       "2021-01-05     85922.70         121716.80   62109.02      29738.15   \n",
       "\n",
       "shopping_mall  Viaport Outlet  Zorlu Center  \n",
       "invoice_date                                 \n",
       "2021-01-01              77.03       5530.65  \n",
       "2021-01-02            1857.30       9636.24  \n",
       "2021-01-03            6140.92      14437.56  \n",
       "2021-01-04           10714.90      21535.84  \n",
       "2021-01-05           12922.98      21703.71  "
      ]
     },
     "execution_count": 24,
     "metadata": {},
     "output_type": "execute_result"
    }
   ],
   "source": [
    "df['invoice_date'] = pd.to_datetime(df['invoice_date'], format=\"%d/%m/%Y\")\n",
    "\n",
    "# Sort the DataFrame by 'invoice_date'\n",
    "df = df.sort_values(by='invoice_date')\n",
    "wide_data = df.pivot_table(index='invoice_date', columns='shopping_mall', values='price', aggfunc='sum', fill_value=0).cumsum()\n",
    "wide_data.head()"
   ]
  },
  {
   "cell_type": "code",
   "execution_count": 26,
   "id": "ff6f7cc9-400d-4642-aa79-f7789fff624f",
   "metadata": {},
   "outputs": [],
   "source": [
    "bcr.bar_chart_race(wide_data, filename='top_malls_by_price.mp4')\n"
   ]
  },
  {
   "cell_type": "code",
   "execution_count": 38,
   "id": "a01a0055-5590-4c8d-aca4-bf468a764dcf",
   "metadata": {
    "scrolled": true
   },
   "outputs": [
    {
     "data": {
      "text/html": [
       "<img src=\"https://github.com/045051Shalini/Dynamic-plots/raw/main/Screenshot%202024-01-15%20171325.png\"/>"
      ],
      "text/plain": [
       "<IPython.core.display.Image object>"
      ]
     },
     "metadata": {},
     "output_type": "display_data"
    }
   ],
   "source": [
    "from IPython.display import Image, display\n",
    "\n",
    "# Specify the raw URL to the image\n",
    "img_url = \"https://github.com/045051Shalini/Dynamic-plots/raw/main/Screenshot%202024-01-15%20171325.png\"\n",
    "\n",
    "# Display the image\n",
    "display(Image(url=img_url))"
   ]
  },
  {
   "cell_type": "raw",
   "id": "24703687-c524-4c14-a1ac-5259146d70dd",
   "metadata": {},
   "source": [
    "\n",
    "1. Objectives\n",
    "\n",
    "Temporal Sales Analysis: Utilize a time-series approach to analyze the cumulative sum of prices for different shopping malls over time, identifying trends and variations in sales.\n",
    "Dynamic Visualization: Create a bar chart race using the 'bcr' library to visually represent the changing dominance of shopping malls in terms of cumulative prices over the specified time period.\n",
    "\n",
    "2. Briefs on the Data & the Analysis\n",
    "\n",
    "Data Transformation: The 'invoice_date' column is converted to datetime format to facilitate temporal analysis. The DataFrame is then sorted chronologically based on 'invoice_date,' and a pivot table is created with 'invoice_date' as the index, 'shopping_mall' as columns, and the sum of 'price' as values. This enables a time-series view of sales for each shopping mall.\n",
    "Cumulative Summation: The resulting pivot table is cumulatively summed along the rows, representing the total cumulative prices for each shopping mall over time.\n",
    "Bar Chart Race: The 'bcr' library is employed to create a dynamic bar chart race, illustrating the evolving dominance of shopping malls in terms of cumulative prices across the specified time range.\n",
    "\n",
    "3. Observations\n",
    "\n",
    "Temporal Trends: The bar chart race dynamically reveals temporal trends in the cumulative prices of different shopping malls. Mall of Istanbul is consistently outperforming other malls over time.\n",
    "Mall Performance Dynamics: Changes in the rankings of shopping malls over the duration of the visualization provide insights into the dynamic nature of consumer preferences and economic factors influencing sales as Metropol AVM kept selling more and more with time and ended at 4th position on 3 Sep, 2023.\n",
    "Seasonal Effects: Patterns in the bar chart race highlight that Kanyon mall sales increased by huge fraction by the ende of first quarter of 2021 and overcame once the The mall of Istanbul.\n",
    "\n",
    "4. Managerial Implications or Insights\n",
    "\n",
    "Marketing Strategies: Marketing strategies based on the observed temporal trends, allocating resources to Mall of Istanbul At the end of quarter of each year can be done as during this time other malls sales increases significantly.\n",
    "Inventory Management: Understanding the temporal dynamics of sales Mall of Istanbul require stocks piled while malls lat the bottom like Zorlu Centre may keep only sufficient stock during high-demand periods.\n",
    "Strategic Decision-Making: Metrocity,Kanyon, Mall of Istanbul and Metropol Avm are  competitors must make counter strategies to keep an hedge over each other."
   ]
  },
  {
   "cell_type": "code",
   "execution_count": 40,
   "id": "e8308968-0505-4462-9d77-b3b0d4e435c8",
   "metadata": {},
   "outputs": [
    {
     "data": {
      "text/html": [
       "<img src=\"https://raw.githubusercontent.com/045051Shalini/Dynamic-plots/main/Screenshot%202024-01-16%20193626.png\"/>"
      ],
      "text/plain": [
       "<IPython.core.display.Image object>"
      ]
     },
     "metadata": {},
     "output_type": "display_data"
    }
   ],
   "source": [
    "from IPython.display import Image, display\n",
    "\n",
    "# Specify the raw URL to the image\n",
    "img_url = \"https://raw.githubusercontent.com/045051Shalini/Dynamic-plots/main/Screenshot%202024-01-16%20193626.png\"\n",
    "\n",
    "# Display the image\n",
    "display(Image(url=img_url))"
   ]
  },
  {
   "cell_type": "raw",
   "id": "32b39657-dba9-430a-b567-d888d4363c0f",
   "metadata": {},
   "source": [
    "1. Objectives\n",
    "Dynamic Sales Visualization: Present sales dynamics by creating an animated scatter plot with age on the x-axis, price on the y-axis, and color-coded by quantity over time.\n",
    "Interactive Exploration: Enable interactive exploration of sales patterns with play and pause functionalities, offering a dynamic view of how sales metrics evolve.\n",
    "Customer-Specific Analysis: Utilize customer IDs for animation groups, allowing for the identification of individual customer sales patterns.\n",
    "\n",
    "2. Briefs on the Data & the Analysis\n",
    "Data Visualization: The scatter plot utilizes age, price, and quantity as visual dimensions, with animation frames based on the 'invoice_date.'\n",
    "Color and Size Encoding: Sales dynamics are visually encoded using color and size, providing a multi-dimensional representation of quantity and facilitating trend identification.\n",
    "Interactive Controls: Play and pause buttons allow users to control the animation, facilitating a detailed exploration of sales dynamics.\n",
    "\n",
    "3. Observations\n",
    "Temporal Sales Patterns: The animation frames reveal how sales pattern in every age group lesser quantities(1,2,3) are bought almost everyday and in lower prices,but on few days like festivities higher quantities are sold in higher prices with the lower quantities at higher price.\n",
    "Customer-Specific Insights: people aged above 60 buys less frequently higher quantities at higher prices compartively to other age gropus.\n",
    "Correlation Between Age and Price: people in the age group 30 to 50 shows almost same quantity and price combinations and are consistent at shopping.\n",
    "\n",
    "4. Managerial Implications or Insights\n",
    "Identifying targeting strategy:Based on different age groups Malls can accomodate more activities catering the need of people specifically aged 30-50. \n",
    "Customer-Centric Strategies: Peopl in the age group of 30-50 do lees impulsive buying and more consitent shopping, discounts and loyalty programme for them would increase the sales.\n",
    "Pricing and Product Strategies: At festivites prices of the lesser quantity could be decreased as they are bought in high amount on some specific days."
   ]
  },
  {
   "cell_type": "code",
   "execution_count": 42,
   "id": "0afaffd1-31af-496e-8339-d201645837e2",
   "metadata": {},
   "outputs": [
    {
     "data": {
      "text/html": [
       "<img src=\"https://raw.githubusercontent.com/045051Shalini/Dynamic-plots/main/Screenshot%202024-01-16%20193731.png\"/>"
      ],
      "text/plain": [
       "<IPython.core.display.Image object>"
      ]
     },
     "metadata": {},
     "output_type": "display_data"
    }
   ],
   "source": [
    "from IPython.display import Image, display\n",
    "\n",
    "# Specify the raw URL to the image\n",
    "img_url = \"https://raw.githubusercontent.com/045051Shalini/Dynamic-plots/main/Screenshot%202024-01-16%20193731.png\"\n",
    "\n",
    "# Display the image\n",
    "display(Image(url=img_url))"
   ]
  },
  {
   "cell_type": "raw",
   "id": "63cf8898-dec5-4f33-89f7-31c9ddef164e",
   "metadata": {},
   "source": [
    "\n",
    "1. Objectives \n",
    "Category-Based Comparison: Present a dynamic comparison of sales across different categories using an animated scatter plot with quantity on the x-axis, price on the y-axis, and color-coded by category.\n",
    "Temporal Analysis: Utilize animation frames based on 'invoice_date' to observe how sales metrics for each category evolve over time.\n",
    "Customer-Specific Exploration: Leverage 'customer_id' as animation groups to explore individual customer interactions within each category.\n",
    "\n",
    "2. Briefs on the Data & the Analysis\n",
    "Data Visualization: The animated scatter plot employs quantity and price as visual dimensions, with categories encoded by color, offering a dynamic view of sales comparisons.\n",
    "Temporal Changes: Animation frames are determined by the 'invoice_date,' enabling the observation of how the quantity and price relationships change over time for different categories.\n",
    "Interactive Controls: Play and pause buttons provide interactive control over the animation, facilitating a detailed exploration of category-based sales dynamics.\n",
    "\n",
    "3. Observations\n",
    "Food and beavrages are sold at higher pricesa and are bought in same quantities as other.Books are being sold at low prices whole through the dataset.\n",
    "Technology is never sold at high quantity but is always sold in higer prices.\n",
    "Clothing is being sold in at moderate prices in all aounts.\n",
    "\n",
    "4. Managerial Implications or Insights\n",
    "Premium pricing strategy with Increased focus on promoting the quality and experience of food & beverages must be applied for food and beaverages.\n",
    "Offer discounts or loyalty programs for large quantity purchases of food & beverages to encourage bulk buying can be done.\n",
    "Bundle high-price tech with accessories to Offer deals that combine expensive tech products with complementary accessories (e.g., headphones with laptops) to improve perceived value.\n"
   ]
  },
  {
   "cell_type": "code",
   "execution_count": 45,
   "id": "546c73f9-689b-4263-b6bf-d7ac69d84b56",
   "metadata": {},
   "outputs": [
    {
     "data": {
      "text/html": [
       "<img src=\"https://raw.githubusercontent.com/045051Shalini/Dynamic-plots/main/Screenshot%202024-01-16%20194921.png\"/>"
      ],
      "text/plain": [
       "<IPython.core.display.Image object>"
      ]
     },
     "metadata": {},
     "output_type": "display_data"
    }
   ],
   "source": [
    "from IPython.display import Image, display\n",
    "\n",
    "# Specify the raw URL to the image\n",
    "img_url = \"https://raw.githubusercontent.com/045051Shalini/Dynamic-plots/main/Screenshot%202024-01-16%20194921.png\"\n",
    "\n",
    "# Display the image\n",
    "display(Image(url=img_url))"
   ]
  },
  {
   "cell_type": "raw",
   "id": "fc69d31d-5902-4c1c-952b-2bfa2d871cc2",
   "metadata": {},
   "source": [
    "\n",
    "1. Objectives\n",
    "Temporal Quantity Analysis by Category: Present a dynamic visualization of cumulative quantity over time for different product categories across various shopping malls.\n",
    "Shopping Mall Comparison: Compare cumulative quantity trends among different shopping malls for each product category.\n",
    "Interactive Exploration: Provide an interactive line plot allowing users to explore and analyze trends based on shopping malls and categories.\n",
    "\n",
    "2. Briefs on the Data & the Analysis\n",
    "Data Transformation: The pivot table aggregates the cumulative quantity of products sold for each category in various shopping malls over time.\n",
    "Cumulative Summation: The cumulative sum is calculated for each shopping mall independently to observe the total quantity sold in each category over time.\n",
    "Interactive Line Plot: The interactive line plot utilizes the Plotly Express library to visualize cumulative quantity trends, with shopping malls color-coded, allowing for dynamic exploration.\n",
    "\n",
    "3. Observations\n",
    "Mall of Istanbul and Kanyon sold quantities allmost double the quantities sold by Viaport outlet and Zorlu centre.\n",
    "Metrocity mall strategy of pricing the quantities differe too much from other malls as the quantities it sold overtime never aligned with any tother malls.\n",
    "Metropol AVM and Istinye Park are close competitors of each other. They are also imitating the the pricing strategy of each other and are showing same sales pattern in terms of quantity\n",
    "\n",
    "4. Managerial Implications or Insights\n",
    "This outlier pricing strategy of Metrocity mall might be deliberate (catering to a niche market) or ineffective (misalignment with customer expectations),customer surveys  to understand their perception of prices and product offerings will be conducted. \n",
    "Metropol AVM and Istinye Park close competition can benefit customers with competitive pricing and variety, but can also lead to pricing wars and profit erosion."
   ]
  },
  {
   "cell_type": "code",
   "execution_count": 19,
   "id": "af98b81a-629c-44f3-8373-a4cf598ee4e7",
   "metadata": {},
   "outputs": [
    {
     "data": {
      "text/html": [
       "<div>\n",
       "<style scoped>\n",
       "    .dataframe tbody tr th:only-of-type {\n",
       "        vertical-align: middle;\n",
       "    }\n",
       "\n",
       "    .dataframe tbody tr th {\n",
       "        vertical-align: top;\n",
       "    }\n",
       "\n",
       "    .dataframe thead th {\n",
       "        text-align: right;\n",
       "    }\n",
       "</style>\n",
       "<table border=\"1\" class=\"dataframe\">\n",
       "  <thead>\n",
       "    <tr style=\"text-align: right;\">\n",
       "      <th>category</th>\n",
       "      <th>Books</th>\n",
       "      <th>Clothing</th>\n",
       "      <th>Cosmetics</th>\n",
       "      <th>Food &amp; Beverage</th>\n",
       "      <th>Shoes</th>\n",
       "      <th>Souvenir</th>\n",
       "      <th>Technology</th>\n",
       "      <th>Toys</th>\n",
       "    </tr>\n",
       "    <tr>\n",
       "      <th>shopping_mall</th>\n",
       "      <th></th>\n",
       "      <th></th>\n",
       "      <th></th>\n",
       "      <th></th>\n",
       "      <th></th>\n",
       "      <th></th>\n",
       "      <th></th>\n",
       "      <th></th>\n",
       "    </tr>\n",
       "  </thead>\n",
       "  <tbody>\n",
       "    <tr>\n",
       "      <th>Cevahir AVM</th>\n",
       "      <td>11998.80</td>\n",
       "      <td>1554414.40</td>\n",
       "      <td>88394.84</td>\n",
       "      <td>11992.39</td>\n",
       "      <td>884050.41</td>\n",
       "      <td>8304.84</td>\n",
       "      <td>819000.0</td>\n",
       "      <td>55516.16</td>\n",
       "    </tr>\n",
       "    <tr>\n",
       "      <th>Emaar Square Mall</th>\n",
       "      <td>23058.30</td>\n",
       "      <td>3066217.44</td>\n",
       "      <td>180774.36</td>\n",
       "      <td>23022.46</td>\n",
       "      <td>1755497.25</td>\n",
       "      <td>16820.82</td>\n",
       "      <td>1653750.0</td>\n",
       "      <td>104939.52</td>\n",
       "    </tr>\n",
       "    <tr>\n",
       "      <th>Forum Istanbul</th>\n",
       "      <td>34511.70</td>\n",
       "      <td>4638336.56</td>\n",
       "      <td>276000.08</td>\n",
       "      <td>33859.02</td>\n",
       "      <td>2631145.28</td>\n",
       "      <td>25911.57</td>\n",
       "      <td>2360400.0</td>\n",
       "      <td>159989.76</td>\n",
       "    </tr>\n",
       "    <tr>\n",
       "      <th>Istinye Park</th>\n",
       "      <td>55236.90</td>\n",
       "      <td>7688649.76</td>\n",
       "      <td>454741.44</td>\n",
       "      <td>57278.96</td>\n",
       "      <td>4437656.98</td>\n",
       "      <td>44280.75</td>\n",
       "      <td>3870300.0</td>\n",
       "      <td>269086.72</td>\n",
       "    </tr>\n",
       "    <tr>\n",
       "      <th>Kanyon</th>\n",
       "      <td>100217.25</td>\n",
       "      <td>13844190.80</td>\n",
       "      <td>826983.74</td>\n",
       "      <td>102753.81</td>\n",
       "      <td>8077688.03</td>\n",
       "      <td>79764.00</td>\n",
       "      <td>7072800.0</td>\n",
       "      <td>483589.12</td>\n",
       "    </tr>\n",
       "  </tbody>\n",
       "</table>\n",
       "</div>"
      ],
      "text/plain": [
       "category               Books     Clothing  Cosmetics  Food & Beverage  \\\n",
       "shopping_mall                                                           \n",
       "Cevahir AVM         11998.80   1554414.40   88394.84         11992.39   \n",
       "Emaar Square Mall   23058.30   3066217.44  180774.36         23022.46   \n",
       "Forum Istanbul      34511.70   4638336.56  276000.08         33859.02   \n",
       "Istinye Park        55236.90   7688649.76  454741.44         57278.96   \n",
       "Kanyon             100217.25  13844190.80  826983.74        102753.81   \n",
       "\n",
       "category                Shoes  Souvenir  Technology       Toys  \n",
       "shopping_mall                                                   \n",
       "Cevahir AVM         884050.41   8304.84    819000.0   55516.16  \n",
       "Emaar Square Mall  1755497.25  16820.82   1653750.0  104939.52  \n",
       "Forum Istanbul     2631145.28  25911.57   2360400.0  159989.76  \n",
       "Istinye Park       4437656.98  44280.75   3870300.0  269086.72  \n",
       "Kanyon             8077688.03  79764.00   7072800.0  483589.12  "
      ]
     },
     "execution_count": 19,
     "metadata": {},
     "output_type": "execute_result"
    }
   ],
   "source": [
    "import pandas as pd\n",
    "\n",
    "# Assuming your DataFrame is named df\n",
    "wide_data1 = df.pivot_table(index='shopping_mall', columns='category', values='price', aggfunc='sum', fill_value=0).cumsum()\n",
    "\n",
    "# Display the resulting pivot table\n",
    "wide_data1.head()"
   ]
  },
  {
   "cell_type": "code",
   "execution_count": 28,
   "id": "23c80b6f-7b4b-4925-98ec-e90267905f03",
   "metadata": {},
   "outputs": [],
   "source": [
    "bcr.bar_chart_race(wide_data1, filename='top_categories_by_price.mp4')"
   ]
  },
  {
   "cell_type": "code",
   "execution_count": 46,
   "id": "5c99a72a-4ee0-4049-b9a2-41bb9b9855c0",
   "metadata": {
    "scrolled": true
   },
   "outputs": [
    {
     "data": {
      "text/html": [
       "<img src=\"https://github.com/045051Shalini/Dynamic-plots/raw/main/Screenshot%202024-01-15%20171253.png\"/>"
      ],
      "text/plain": [
       "<IPython.core.display.Image object>"
      ]
     },
     "execution_count": 46,
     "metadata": {},
     "output_type": "execute_result"
    }
   ],
   "source": [
    "from IPython.display import Image\n",
    "\n",
    "# Specify the URL to the image\n",
    "img_url = 'https://github.com/045051Shalini/Dynamic-plots/raw/main/Screenshot%202024-01-15%20171253.png'\n",
    "\n",
    "# Display the image\n",
    "Image(url=img_url)"
   ]
  },
  {
   "cell_type": "raw",
   "id": "31084a82-3038-46ff-824e-fbeb7ac2aff9",
   "metadata": {},
   "source": [
    "1. Objectives \n",
    "\n",
    "Category-based Analysis: Utilize a pivot table to analyze the cumulative sum of prices for different product categories in various shopping malls, providing insights into the contribution of each category to total sales.\n",
    "Dynamic Visualization: Generate a bar chart race using the 'bcr' library to visually represent the changing dominance of product categories in terms of cumulative prices over time.\n",
    "\n",
    "2. Briefs on the Data & the Analysis\n",
    "\n",
    "Data Transformation: The original DataFrame is transformed into a pivot table, with 'shopping_mall' as the index, 'category' as columns, and the sum of 'price' as values. This helps aggregate the total sales amount for each category in each shopping mall.\n",
    "Cumulative Summation: The resulting pivot table is cumulatively summed along the columns, representing the total cumulative prices for each product category in each shopping mall.\n",
    "Bar Chart Race: The 'bcr' library is then used to create a bar chart race, illustrating the dynamic changes in cumulative prices for different product categories across shopping malls over time.\n",
    "\n",
    "3. Observations\n",
    "\n",
    "Category Dominance: The bar chart race dynamically demonstrates the dominance of specific product categories in terms of cumulative prices. Patterns such as fluctuations or sustained growth in certain categories become evident as clothing remains the most sold category followed by shoes and technology. while the Souvenir are sold least in each of the malls.\n",
    "Shopping Mall Comparison: By visually tracking the changes, it becomes apparent how different shopping malls may vary in their emphasis on particular product categories, providing insights into consumer preferences across locations books are sold more than food and beaverages in Cevahir AVM, Emaar Square Mall, Forum Istanbul malls only.\n",
    "\n",
    "4. Managerial Implications or Insights\n",
    "\n",
    "Product Category Strategy: Mall managers can use insights from the analysis to strategize the placement and promotion of clothing categories, focusing resources on high-performing categories like clothing, shoes and technology .\n",
    "Marketing and Merchandising: Tailoring marketing efforts and merchandising strategies based on the popularity of specific categories can enhance the overall shopping experience and boost sales.\n",
    "Revenue Optimization: Understanding the cumulative prices of different categories allows for strategic decisions on inventory management and pricing strategies, ultimately optimizing overall revenue by keeping stock of high selling category and keeping lesser stock of low selling categories such as toys,books,souvenirs etc."
   ]
  },
  {
   "cell_type": "raw",
   "id": "7105644e-89fa-46f1-97a5-9119e1d9c504",
   "metadata": {},
   "source": [
    "Acknowledgements\n",
    "www.geeksforgeeks.org\n",
    "chat.openai.com\n",
    "joicodes / Top-100-Racing-Bar-Chart"
   ]
  },
  {
   "cell_type": "code",
   "execution_count": null,
   "id": "74fd99cb-72e4-4172-8665-1aea138b27c3",
   "metadata": {},
   "outputs": [],
   "source": []
  }
 ],
 "metadata": {
  "kernelspec": {
   "display_name": "Python 3 (ipykernel)",
   "language": "python",
   "name": "python3"
  },
  "language_info": {
   "codemirror_mode": {
    "name": "ipython",
    "version": 3
   },
   "file_extension": ".py",
   "mimetype": "text/x-python",
   "name": "python",
   "nbconvert_exporter": "python",
   "pygments_lexer": "ipython3",
   "version": "3.11.5"
  }
 },
 "nbformat": 4,
 "nbformat_minor": 5
}
